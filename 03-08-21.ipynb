{
 "cells": [
  {
   "cell_type": "markdown",
   "metadata": {},
   "source": [
    "### Matplotlib Contin...\n",
    "\n",
    "* Boxplot\n",
    "* Histogram\n",
    "* Pie Chart\n"
   ]
  },
  {
   "cell_type": "code",
   "execution_count": 19,
   "metadata": {},
   "outputs": [],
   "source": [
    "import matplotlib.pyplot as plt"
   ]
  },
  {
   "cell_type": "markdown",
   "metadata": {},
   "source": [
    "1.Boxplot\n",
    "\n",
    "* It gives a summary of numerical data through quartiles\n",
    "    * min\n",
    "    * Inter Quartile Range(IQR)\n",
    "    * lower quartile(25%)\n",
    "    * medium (50%)\n",
    "    * Upper Quartile(75%)\n",
    "    * max\n",
    "* plt.boxplot()"
   ]
  },
  {
   "cell_type": "code",
   "execution_count": 2,
   "metadata": {},
   "outputs": [],
   "source": [
    "import numpy as np"
   ]
  },
  {
   "cell_type": "code",
   "execution_count": 5,
   "metadata": {},
   "outputs": [
    {
     "data": {
      "text/plain": [
       "array([5353, 5437, 5904, 2656, 5987, 6629, 3258,  856, 5745, 9240, 8725,\n",
       "       6031, 7117,  778, 9944, 6418,  275, 4753, 6831,  718, 1156, 4065,\n",
       "       7910, 4974, 9897, 4774, 1056, 7617, 8488, 6770, 5856, 6937, 9374,\n",
       "       4910, 7797, 3984, 7336, 6892, 2645, 4168, 1720, 7337, 8749, 4046,\n",
       "        407, 5332,  591, 6850, 1924, 1107, 4902, 7621,  235, 7731, 2746,\n",
       "       3923, 4663, 1885, 3212, 6845, 7056, 1348, 1512, 2141, 3307, 4624,\n",
       "        465, 7678, 5532, 6165, 3067, 5127, 2108, 8733, 9586, 2613, 2217,\n",
       "       5726,  822, 2687, 9998, 5060, 6040, 1497, 5975, 7451, 5838, 3806,\n",
       "       7344, 3662, 1194, 1300, 2220,  306, 2108, 8803, 6227, 9056, 8363,\n",
       "          0, 7093, 1441, 7572, 2949, 9039, 1488, 1097, 3946, 3123, 8059,\n",
       "       5290, 4672, 1920, 6646, 1356, 3792, 8815, 9778, 7979, 9171, 7374,\n",
       "       6399, 4503, 9769, 6608, 9908, 2140, 9705, 6326, 3201, 2034, 1002,\n",
       "       6011, 8914, 2419, 9286, 2934, 9943, 7565, 9687, 7408, 8952, 3558,\n",
       "       3452, 1273, 8128, 5706, 5859, 9523, 8092, 3041, 4722, 8998, 7816,\n",
       "       6912, 2613,  664, 8188, 2137, 6981, 2905, 6161, 4334, 1778, 2983,\n",
       "       5295, 2198,  462, 5025, 5783, 1757, 2266, 5236, 7847, 6490, 2704,\n",
       "       2118, 7980, 2024, 8161, 6055, 9869, 1448, 5722, 3935, 3216, 4623,\n",
       "       9233,  865, 9777, 8465, 6791, 1460, 5542, 3693, 5745, 6205, 1412,\n",
       "       1341, 5381,  370, 8360, 2958, 5728, 1890, 8713, 4804,  691, 7095,\n",
       "       2399, 8620, 2509, 1884, 2258, 5230,  673, 6376, 9742, 1805,  762,\n",
       "       8569,  198, 6089, 7406, 1410, 4548, 2238,  274, 5325, 8000, 4952,\n",
       "       4079, 6082, 1090, 8329, 2520, 7955, 1441, 2858, 9104, 1319, 5121,\n",
       "       3997,  446,  630, 2675, 5201, 1740, 8714, 7727, 2356, 3946, 4843,\n",
       "        858, 1505, 9132, 7469, 5512, 8586, 1311, 6230, 9092, 1942, 5690,\n",
       "       4368, 9429, 1254, 8557, 3208, 1220, 9698, 8922,  364, 2824, 6294,\n",
       "        745, 6399, 5503, 6409, 5525, 6142,  750,  691,  562, 9971, 1781,\n",
       "       2728, 5316, 2856, 7501, 5256, 1901, 9903, 9011,  346, 2852, 3178,\n",
       "       4072, 1002,  530, 4855, 7244, 4406, 2260, 3342, 3524, 8203, 6765,\n",
       "       4562, 1499, 8590, 9520, 6370, 7726, 3012, 9290, 7738, 7482, 6535,\n",
       "       6547, 5704, 8246, 2745, 1362, 1986, 7611, 2604,  113, 9910, 5637,\n",
       "        743, 6688, 7700, 8236, 9094, 8556, 5984, 5511, 4818, 8058, 7597,\n",
       "       6074, 5151, 1851, 2972, 5772, 1705, 3487, 1446, 4758, 7985, 6816,\n",
       "       2933, 7059, 9671, 3331, 2545, 9106, 3873, 4324, 5415, 4991, 2693,\n",
       "       7989, 9976, 4535, 4950, 2101, 3049, 1909, 1496, 7452, 4851, 3238,\n",
       "       5450, 9431, 9120, 3039, 6409, 1432, 2277, 4197, 6878, 2679, 2759,\n",
       "        691, 7116, 6310, 8856, 6859, 6567, 6557, 9402, 3285, 4532, 1439,\n",
       "       7174, 1334,  456, 7286, 4632,  556, 6339, 9974, 5867, 7397, 1275,\n",
       "       8416, 9780, 2181,  324, 8183,   47, 1700, 4011, 6139, 9681, 8633,\n",
       "       8422, 4771, 5994, 2641, 3299, 8567,  408, 2674, 1094, 5922,  168,\n",
       "       5189, 3410, 1110, 8012, 2876, 1325, 1562, 2199, 1763, 1794, 3393,\n",
       "       4636, 9079, 8017, 6094, 3116, 9393, 7792, 6205, 8545, 8297, 9252,\n",
       "       3075, 7820, 5743, 7479, 9511, 2857, 1170, 2860, 7877, 3234, 6230,\n",
       "       8635, 1596, 3552, 4401, 4305, 8848, 3912, 5778, 2984, 2610, 8788,\n",
       "       5874, 8046, 3421, 2664, 6052, 9706, 1880, 9076, 4160, 8291, 4256,\n",
       "       9146, 9168, 8962,  778, 3548, 8944, 8697, 1786, 1459, 5910, 8144,\n",
       "       5306, 5744, 4137, 3356, 3756, 6496, 3292, 6593, 9365, 7644, 2068,\n",
       "       3390, 8062,  952, 9991, 1715, 1209, 3294, 8303, 5381, 1174, 9406,\n",
       "       8413, 5784, 7685, 9858,  562, 1213, 1968, 4334, 9199, 5597, 8917,\n",
       "       8893, 7913, 5743, 3113, 8728, 7888, 4528, 4246, 6392, 8247, 9978,\n",
       "       4856, 9676, 3439, 5346, 3349, 2773, 5853, 4062, 2664, 9318, 8794,\n",
       "       4097, 4028, 4638, 7668, 6007, 1295, 8068,   98, 9469, 2917, 7235,\n",
       "       6109, 1601, 2817,  511, 4535, 1486, 1253, 4577, 7417, 3159, 4875,\n",
       "       6244, 4679,  297,  232, 3739, 8960, 3611, 5709, 1336, 6805, 5347,\n",
       "       3501,   71, 7462, 5743, 3595, 8588, 8063, 1080, 4615, 5769, 6507,\n",
       "       6334, 6650, 2572, 7601, 5682, 4209, 9731, 3249, 9047, 2595, 3490,\n",
       "        262, 5780, 3281, 3486, 4563, 7768, 1072,  912, 9806, 9736, 8802,\n",
       "       2433, 3408, 3747, 1237,  803, 3263, 1146, 9818, 6967, 7940, 6147,\n",
       "       8236, 9625, 5934, 7069, 2442, 5943, 6286, 4096, 5173,  364, 1835,\n",
       "        330, 7108, 2006, 1706, 7524, 7565, 8976, 1112, 2614, 8760,  285,\n",
       "       4059, 6029, 3129, 9923, 4956, 5048,  143, 3632, 9149, 6097, 6706,\n",
       "       6145, 7115, 7261, 6922, 5492, 3964, 4446, 7593, 8328, 6644,  809,\n",
       "       5247, 4746, 7185, 9583, 4553, 1970, 7934, 2089, 2596, 4737, 9844,\n",
       "       8798, 1577, 7325, 9028, 9037, 9001, 5626, 8351, 1771, 6285, 9874,\n",
       "       6186, 1753, 6882, 4226, 4229, 4089, 6684, 5211, 1266, 5824, 3445,\n",
       "       3803,  801, 3214, 7148, 5796, 8183, 2025, 4602, 9322, 6183, 4280,\n",
       "       2083,  693, 4218, 6155, 5771, 1751,  544, 9419, 1783, 2959, 1147,\n",
       "         96, 7279, 8004, 2665, 2212, 3470, 8530, 3898, 3343, 4362,  650,\n",
       "        828, 7300, 3188, 6254, 3612, 7747, 6542, 4109, 1637, 5541, 5306,\n",
       "       6748, 5446, 5692, 4059, 2749,  531, 4629, 6454, 6862, 6520, 5438,\n",
       "       7152, 1033,  940, 4344, 9434, 5071, 8048, 9495, 8457, 5931, 8627,\n",
       "       2023, 6915, 5768, 8774,   92, 5942, 6492,  383, 6977,  894, 4387,\n",
       "       5695, 8638, 9366, 3511, 8771, 3495,  430, 8203, 5507, 7499, 3515,\n",
       "       7264, 9575, 6544, 8080, 6492, 4982, 9094, 8612, 9180, 3860, 3139,\n",
       "       4722, 4390, 1011, 6755, 2907, 9552, 4494, 5073, 1612, 9323, 5324,\n",
       "       3034, 8993, 8871, 6284, 9116, 6301, 9153, 6000,  798, 1129, 9949,\n",
       "        960,   81, 5594, 6079, 2005, 7256, 8338, 7153,  934, 1258, 3562,\n",
       "        554, 7807,  506,  767, 5838, 2835, 7989, 3706, 5249, 3349, 7162,\n",
       "       1364, 1052, 6791, 3761, 9049, 4842, 3444, 7231,  186, 5421, 7647,\n",
       "       1599, 5542, 7096, 8871, 1377, 4452, 2729, 1893,  314, 4539, 1169,\n",
       "       8415, 1345,  582, 3066, 5443, 5087, 2371, 1771, 4504, 1072, 1138,\n",
       "        717, 4039, 7072, 4351, 8174, 9286, 4141,  868,  181, 2950, 3373,\n",
       "       4769, 3645, 4815, 9051, 5218,  615, 2462, 8900, 5840, 4328,  728,\n",
       "       7021, 9694, 1451, 3861, 3056, 2187, 1336, 3466, 7858, 4769, 9637,\n",
       "       9414, 9499, 3288, 2340, 7932, 8648, 3773, 7701, 7205, 8829, 7936,\n",
       "       4537, 6499, 3221, 1852, 1815, 6867, 9322, 4618, 7626, 4635, 8513,\n",
       "        555, 5595, 5039, 2004,  479, 8307, 5261, 5956, 5994, 8953, 4302,\n",
       "       2057, 8125, 7870,  149,   31, 6627, 9405,  379, 6491, 3821, 2318,\n",
       "       7221, 2498, 2061, 8281, 1616, 7195, 9300, 8660, 5027, 9925,  109,\n",
       "       2362, 4089, 5605, 1755, 3511, 1129, 4819, 9332, 4984, 3085, 9265,\n",
       "       7008, 2948,  973,  990, 5181, 5450, 2819, 1053, 7387, 5859, 9609,\n",
       "       6742, 2975, 6146, 8954,  787, 7047, 2695, 5212, 3832, 3748])"
      ]
     },
     "execution_count": 5,
     "metadata": {},
     "output_type": "execute_result"
    }
   ],
   "source": [
    "numbers=np.random.randint(0,10000,1000)\n",
    "numbers"
   ]
  },
  {
   "cell_type": "code",
   "execution_count": 6,
   "metadata": {},
   "outputs": [
    {
     "data": {
      "text/plain": [
       "{'whiskers': [<matplotlib.lines.Line2D at 0x7901988>,\n",
       "  <matplotlib.lines.Line2D at 0x7f0bdc8>],\n",
       " 'caps': [<matplotlib.lines.Line2D at 0x7f0bec8>,\n",
       "  <matplotlib.lines.Line2D at 0x7f0bf88>],\n",
       " 'boxes': [<matplotlib.lines.Line2D at 0x7f07648>],\n",
       " 'medians': [<matplotlib.lines.Line2D at 0x7f18b48>],\n",
       " 'fliers': [<matplotlib.lines.Line2D at 0x7f1db48>],\n",
       " 'means': []}"
      ]
     },
     "execution_count": 6,
     "metadata": {},
     "output_type": "execute_result"
    },
    {
     "data": {
      "image/png": "[encoded data removed]",
      "text/plain": [
       "<Figure size 432x288 with 1 Axes>"
      ]
     },
     "metadata": {
      "needs_background": "light"
     },
     "output_type": "display_data"
    }
   ],
   "source": [
    "plt.boxplot(numbers)"
   ]
  },
  {
   "cell_type": "code",
   "execution_count": 7,
   "metadata": {},
   "outputs": [
    {
     "data": {
      "text/plain": [
       "{'whiskers': [<matplotlib.lines.Line2D at 0x7f8fc88>,\n",
       "  <matplotlib.lines.Line2D at 0x7fa7fc8>],\n",
       " 'caps': [<matplotlib.lines.Line2D at 0x7fad908>,\n",
       "  <matplotlib.lines.Line2D at 0x7fadf48>],\n",
       " 'boxes': [<matplotlib.lines.Line2D at 0x7fa2fc8>],\n",
       " 'medians': [<matplotlib.lines.Line2D at 0x7fadfc8>],\n",
       " 'fliers': [<matplotlib.lines.Line2D at 0x7fb2fc8>],\n",
       " 'means': []}"
      ]
     },
     "execution_count": 7,
     "metadata": {},
     "output_type": "execute_result"
    },
    {
     "data": {
      "image/png": "[encoded data removed]",
      "text/plain": [
       "<Figure size 432x288 with 1 Axes>"
      ]
     },
     "metadata": {
      "needs_background": "light"
     },
     "output_type": "display_data"
    }
   ],
   "source": [
    "### Notched Boxplot\n",
    "\n",
    "plt.boxplot(numbers,notch=True)"
   ]
  },
  {
   "cell_type": "code",
   "execution_count": 8,
   "metadata": {},
   "outputs": [
    {
     "name": "stdout",
     "output_type": "stream",
     "text": [
      "Help on function boxplot in module matplotlib.pyplot:\n",
      "\n",
      "boxplot(x, notch=None, sym=None, vert=None, whis=None, positions=None, widths=None, patch_artist=None, bootstrap=None, usermedians=None, conf_intervals=None, meanline=None, showmeans=None, showcaps=None, showbox=None, showfliers=None, boxprops=None, labels=None, flierprops=None, medianprops=None, meanprops=None, capprops=None, whiskerprops=None, manage_ticks=True, autorange=False, zorder=None, *, data=None)\n",
      "    Make a box and whisker plot.\n",
      "    \n",
      "    Make a box and whisker plot for each column of ``x`` or each\n",
      "    vector in sequence ``x``.  The box extends from the lower to\n",
      "    upper quartile values of the data, with a line at the median.\n",
      "    The whiskers extend from the box to show the range of the\n",
      "    data.  Flier points are those past the end of the whiskers.\n",
      "    \n",
      "    Parameters\n",
      "    ----------\n",
      "    x : Array or a sequence of vectors.\n",
      "        The input data.\n",
      "    \n",
      "    notch : bool, optional (False)\n",
      "        If `True`, will produce a notched box plot. Otherwise, a\n",
      "        rectangular boxplot is produced. The notches represent the\n",
      "        confidence interval (CI) around the median. See the entry\n",
      "        for the ``bootstrap`` parameter for information regarding\n",
      "        how the locations of the notches are computed.\n",
      "    \n",
      "        .. note::\n",
      "    \n",
      "            In cases where the values of the CI are less than the\n",
      "            lower quartile or greater than the upper quartile, the\n",
      "            notches will extend beyond the box, giving it a\n",
      "            distinctive \"flipped\" appearance. This is expected\n",
      "            behavior and consistent with other statistical\n",
      "            visualization packages.\n",
      "    \n",
      "    sym : str, optional\n",
      "        The default symbol for flier points. Enter an empty string\n",
      "        ('') if you don't want to show fliers. If `None`, then the\n",
      "        fliers default to 'b+'  If you want more control use the\n",
      "        flierprops kwarg.\n",
      "    \n",
      "    vert : bool, optional (True)\n",
      "        If `True` (default), makes the boxes vertical. If `False`,\n",
      "        everything is drawn horizontally.\n",
      "    \n",
      "    whis : float, sequence, or string (default = 1.5)\n",
      "        As a float, determines the reach of the whiskers to the beyond the\n",
      "        first and third quartiles. In other words, where IQR is the\n",
      "        interquartile range (`Q3-Q1`), the upper whisker will extend to\n",
      "        last datum less than `Q3 + whis*IQR`). Similarly, the lower whisker\n",
      "        will extend to the first datum greater than `Q1 - whis*IQR`.\n",
      "        Beyond the whiskers, data\n",
      "        are considered outliers and are plotted as individual\n",
      "        points. Set this to an unreasonably high value to force the\n",
      "        whiskers to show the min and max values. Alternatively, set\n",
      "        this to an ascending sequence of percentile (e.g., [5, 95])\n",
      "        to set the whiskers at specific percentiles of the data.\n",
      "        Finally, ``whis`` can be the string ``'range'`` to force the\n",
      "        whiskers to the min and max of the data.\n",
      "    \n",
      "    bootstrap : int, optional\n",
      "        Specifies whether to bootstrap the confidence intervals\n",
      "        around the median for notched boxplots. If ``bootstrap`` is\n",
      "        None, no bootstrapping is performed, and notches are\n",
      "        calculated using a Gaussian-based asymptotic approximation\n",
      "        (see McGill, R., Tukey, J.W., and Larsen, W.A., 1978, and\n",
      "        Kendall and Stuart, 1967). Otherwise, bootstrap specifies\n",
      "        the number of times to bootstrap the median to determine its\n",
      "        95% confidence intervals. Values between 1000 and 10000 are\n",
      "        recommended.\n",
      "    \n",
      "    usermedians : array-like, optional\n",
      "        An array or sequence whose first dimension (or length) is\n",
      "        compatible with ``x``. This overrides the medians computed\n",
      "        by matplotlib for each element of ``usermedians`` that is not\n",
      "        `None`. When an element of ``usermedians`` is None, the median\n",
      "        will be computed by matplotlib as normal.\n",
      "    \n",
      "    conf_intervals : array-like, optional\n",
      "        Array or sequence whose first dimension (or length) is\n",
      "        compatible with ``x`` and whose second dimension is 2. When\n",
      "        the an element of ``conf_intervals`` is not None, the\n",
      "        notch locations computed by matplotlib are overridden\n",
      "        (provided ``notch`` is `True`). When an element of\n",
      "        ``conf_intervals`` is `None`, the notches are computed by the\n",
      "        method specified by the other kwargs (e.g., ``bootstrap``).\n",
      "    \n",
      "    positions : array-like, optional\n",
      "        Sets the positions of the boxes. The ticks and limits are\n",
      "        automatically set to match the positions. Defaults to\n",
      "        `range(1, N+1)` where N is the number of boxes to be drawn.\n",
      "    \n",
      "    widths : scalar or array-like\n",
      "        Sets the width of each box either with a scalar or a\n",
      "        sequence. The default is 0.5, or ``0.15*(distance between\n",
      "        extreme positions)``, if that is smaller.\n",
      "    \n",
      "    patch_artist : bool, optional (False)\n",
      "        If `False` produces boxes with the Line2D artist. Otherwise,\n",
      "        boxes and drawn with Patch artists.\n",
      "    \n",
      "    labels : sequence, optional\n",
      "        Labels for each dataset. Length must be compatible with\n",
      "        dimensions of ``x``.\n",
      "    \n",
      "    manage_ticks : bool, optional (True)\n",
      "        If True, the tick locations and labels will be adjusted to match\n",
      "        the boxplot positions.\n",
      "    \n",
      "    autorange : bool, optional (False)\n",
      "        When `True` and the data are distributed such that the 25th and\n",
      "        75th percentiles are equal, ``whis`` is set to ``'range'`` such\n",
      "        that the whisker ends are at the minimum and maximum of the data.\n",
      "    \n",
      "    meanline : bool, optional (False)\n",
      "        If `True` (and ``showmeans`` is `True`), will try to render\n",
      "        the mean as a line spanning the full width of the box\n",
      "        according to ``meanprops`` (see below). Not recommended if\n",
      "        ``shownotches`` is also True. Otherwise, means will be shown\n",
      "        as points.\n",
      "    \n",
      "    zorder : scalar, optional (None)\n",
      "        Sets the zorder of the boxplot.\n",
      "    \n",
      "    Other Parameters\n",
      "    ----------------\n",
      "    showcaps : bool, optional (True)\n",
      "        Show the caps on the ends of whiskers.\n",
      "    showbox : bool, optional (True)\n",
      "        Show the central box.\n",
      "    showfliers : bool, optional (True)\n",
      "        Show the outliers beyond the caps.\n",
      "    showmeans : bool, optional (False)\n",
      "        Show the arithmetic means.\n",
      "    capprops : dict, optional (None)\n",
      "        Specifies the style of the caps.\n",
      "    boxprops : dict, optional (None)\n",
      "        Specifies the style of the box.\n",
      "    whiskerprops : dict, optional (None)\n",
      "        Specifies the style of the whiskers.\n",
      "    flierprops : dict, optional (None)\n",
      "        Specifies the style of the fliers.\n",
      "    medianprops : dict, optional (None)\n",
      "        Specifies the style of the median.\n",
      "    meanprops : dict, optional (None)\n",
      "        Specifies the style of the mean.\n",
      "    \n",
      "    Returns\n",
      "    -------\n",
      "    result : dict\n",
      "      A dictionary mapping each component of the boxplot to a list\n",
      "      of the :class:`matplotlib.lines.Line2D` instances\n",
      "      created. That dictionary has the following keys (assuming\n",
      "      vertical boxplots):\n",
      "    \n",
      "      - ``boxes``: the main body of the boxplot showing the\n",
      "        quartiles and the median's confidence intervals if\n",
      "        enabled.\n",
      "    \n",
      "      - ``medians``: horizontal lines at the median of each box.\n",
      "    \n",
      "      - ``whiskers``: the vertical lines extending to the most\n",
      "        extreme, non-outlier data points.\n",
      "    \n",
      "      - ``caps``: the horizontal lines at the ends of the\n",
      "        whiskers.\n",
      "    \n",
      "      - ``fliers``: points representing data that extend beyond\n",
      "        the whiskers (fliers).\n",
      "    \n",
      "      - ``means``: points or lines representing the means.\n",
      "    \n",
      "    Notes\n",
      "    -----\n",
      "    \n",
      "    \n",
      "    .. note::\n",
      "        In addition to the above described arguments, this function can take a\n",
      "        **data** keyword argument. If such a **data** argument is given, the\n",
      "        following arguments are replaced by **data[<arg>]**:\n",
      "    \n",
      "        * All positional and all keyword arguments.\n",
      "    \n",
      "        Objects passed as **data** must support item access (``data[<arg>]``) and\n",
      "        membership test (``<arg> in data``).\n",
      "\n"
     ]
    }
   ],
   "source": [
    "help(plt.boxplot)"
   ]
  },
  {
   "cell_type": "code",
   "execution_count": 9,
   "metadata": {},
   "outputs": [
    {
     "data": {
      "text/plain": [
       "{'whiskers': [<matplotlib.lines.Line2D at 0x7fd7f48>,\n",
       "  <matplotlib.lines.Line2D at 0x8018e08>],\n",
       " 'caps': [<matplotlib.lines.Line2D at 0x8018ec8>,\n",
       "  <matplotlib.lines.Line2D at 0x801ee88>],\n",
       " 'boxes': [<matplotlib.lines.Line2D at 0x8012c88>],\n",
       " 'medians': [<matplotlib.lines.Line2D at 0x801ef48>],\n",
       " 'fliers': [<matplotlib.lines.Line2D at 0x8022e08>],\n",
       " 'means': []}"
      ]
     },
     "execution_count": 9,
     "metadata": {},
     "output_type": "execute_result"
    },
    {
     "data": {
      "image/png": "[encoded data removed]",
      "text/plain": [
       "<Figure size 432x288 with 1 Axes>"
      ]
     },
     "metadata": {
      "needs_background": "light"
     },
     "output_type": "display_data"
    }
   ],
   "source": [
    "### Notched Boxplot\n",
    "\n",
    "plt.boxplot(numbers,notch=True,vert=False)"
   ]
  },
  {
   "cell_type": "code",
   "execution_count": 11,
   "metadata": {},
   "outputs": [],
   "source": [
    "product1_sales=np.random.randint(0,5000,50)\n",
    "product2_sales=np.random.randint(0,7000,100)\n",
    "product3_sales=np.random.randint(1000,3500,500)"
   ]
  },
  {
   "cell_type": "code",
   "execution_count": 14,
   "metadata": {},
   "outputs": [
    {
     "data": {
      "text/plain": [
       "{'whiskers': [<matplotlib.lines.Line2D at 0x83c8608>,\n",
       "  <matplotlib.lines.Line2D at 0x83c8dc8>,\n",
       "  <matplotlib.lines.Line2D at 0x83d4c88>,\n",
       "  <matplotlib.lines.Line2D at 0x83d4dc8>,\n",
       "  <matplotlib.lines.Line2D at 0x83ec0c8>,\n",
       "  <matplotlib.lines.Line2D at 0x83e5d48>],\n",
       " 'caps': [<matplotlib.lines.Line2D at 0x83c8e88>,\n",
       "  <matplotlib.lines.Line2D at 0x83c8f08>,\n",
       "  <matplotlib.lines.Line2D at 0x83d4e48>,\n",
       "  <matplotlib.lines.Line2D at 0x83d42c8>,\n",
       "  <matplotlib.lines.Line2D at 0x83ecc48>,\n",
       "  <matplotlib.lines.Line2D at 0x83ecbc8>],\n",
       " 'boxes': [<matplotlib.patches.PathPatch at 0x83c8208>,\n",
       "  <matplotlib.patches.PathPatch at 0x83d48c8>,\n",
       "  <matplotlib.patches.PathPatch at 0x83e5c88>],\n",
       " 'medians': [<matplotlib.lines.Line2D at 0x83cee88>,\n",
       "  <matplotlib.lines.Line2D at 0x83dce48>,\n",
       "  <matplotlib.lines.Line2D at 0x83ecd88>],\n",
       " 'fliers': [<matplotlib.lines.Line2D at 0x83cef48>,\n",
       "  <matplotlib.lines.Line2D at 0x83dcec8>,\n",
       "  <matplotlib.lines.Line2D at 0x83f2d08>],\n",
       " 'means': []}"
      ]
     },
     "execution_count": 14,
     "metadata": {},
     "output_type": "execute_result"
    },
    {
     "data": {
      "image/png": "[encoded data removed]",
      "text/plain": [
       "<Figure size 432x288 with 1 Axes>"
      ]
     },
     "metadata": {
      "needs_background": "light"
     },
     "output_type": "display_data"
    }
   ],
   "source": [
    "plt.boxplot([product1_sales,product2_sales,product3_sales],\n",
    "            labels=['Maggi','yeppi','knoor'],\n",
    "            patch_artist=True,\n",
    "            boxprops=dict(facecolor='pink',color='r'),\n",
    "            vert= False)\n"
   ]
  },
  {
   "cell_type": "markdown",
   "metadata": {},
   "source": [
    "2.Histogram\n",
    "\n",
    "* Similar to Bar Charts\n",
    "* Frequency distribution of numerical data\n",
    "* plt.hist()\n"
   ]
  },
  {
   "cell_type": "code",
   "execution_count": 17,
   "metadata": {},
   "outputs": [
    {
     "data": {
      "text/plain": [
       "(array([4., 2., 3., 3.]),\n",
       " array([0. , 1.3, 2.6, 3.9, 5.2]),\n",
       " <a list of 4 Patch objects>)"
      ]
     },
     "execution_count": 17,
     "metadata": {},
     "output_type": "execute_result"
    },
    {
     "data": {
      "image/png": "[encoded data removed]",
      "text/plain": [
       "<Figure size 432x288 with 1 Axes>"
      ]
     },
     "metadata": {
      "needs_background": "light"
     },
     "output_type": "display_data"
    }
   ],
   "source": [
    "h=[0,0.5,0.5,0.6,1.5,1.6,3.6,3.7,3.8,5,5.1,5.2]\n",
    "bins=4\n",
    "plt.hist(h,bins,rwidth=0.4)"
   ]
  },
  {
   "cell_type": "code",
   "execution_count": 18,
   "metadata": {},
   "outputs": [
    {
     "data": {
      "text/plain": [
       "(array([3., 0., 3., 3., 1.]),\n",
       " array([10, 11, 12, 13, 14, 15]),\n",
       " <a list of 5 Patch objects>)"
      ]
     },
     "execution_count": 18,
     "metadata": {},
     "output_type": "execute_result"
    },
    {
     "data": {
      "image/png": "[encoded data removed]",
      "text/plain": [
       "<Figure size 432x288 with 1 Axes>"
      ]
     },
     "metadata": {
      "needs_background": "light"
     },
     "output_type": "display_data"
    }
   ],
   "source": [
    "h2=[10,10.2,10.5,5,12,12,12.3,13,13,13.5,15,15.1,15.5,15.6]\n",
    "\n",
    "bins2=[10,11,12,13,14,15]\n",
    "plt.hist(h2,bins2,rwidth=0.4)"
   ]
  },
  {
   "cell_type": "markdown",
   "metadata": {},
   "source": [
    "### 3.Piechart\n",
    "\n",
    "* plt.pie()"
   ]
  },
  {
   "cell_type": "code",
   "execution_count": 23,
   "metadata": {},
   "outputs": [
    {
     "data": {
      "image/png": "[encoded data removed]",
      "text/plain": [
       "<Figure size 432x288 with 1 Axes>"
      ]
     },
     "metadata": {},
     "output_type": "display_data"
    },
    {
     "data": {
      "text/plain": [
       "<Figure size 432x288 with 0 Axes>"
      ]
     },
     "metadata": {},
     "output_type": "display_data"
    }
   ],
   "source": [
    "games=['cricket','chess','ludo','football']\n",
    "score=[80,92,72,50]\n",
    "plt.pie(score,labels=games,autopct='%1.2f%%',colors=['c','b','m','pink'],\n",
    "                startangle=90,explode=(0,0.2,0,0),shadow=True\n",
    "            )\n",
    "plt.show()\n",
    "plt.savefig('Piechart1.png')"
   ]
  },
  {
   "cell_type": "code",
   "execution_count": null,
   "metadata": {},
   "outputs": [],
   "source": []
  }
 ],
 "metadata": {
  "kernelspec": {
   "display_name": "Python 3",
   "language": "python",
   "name": "python3"
  },
  "language_info": {
   "codemirror_mode": {
    "name": "ipython",
    "version": 3
   },
   "file_extension": ".py",
   "mimetype": "text/x-python",
   "name": "python",
   "nbconvert_exporter": "python",
   "pygments_lexer": "ipython3",
   "version": "3.7.6"
  }
 },
 "nbformat": 4,
 "nbformat_minor": 4
}
