{
 "cells": [
  {
   "cell_type": "markdown",
   "metadata": {},
   "source": [
    "### Functions\n",
    "- Function is a set of statements to do a specific task\n",
    "- Pre defined\n",
    "    - input, type, print,int,str, float\n",
    "- User defined"
   ]
  },
  {
   "cell_type": "code",
   "execution_count": null,
   "metadata": {},
   "outputs": [],
   "source": [
    "# function syntax\n",
    "def function_name(arguments):\n",
    "    statement1\n",
    "    statement2\n",
    "\n",
    "function_name(arguments)    "
   ]
  },
  {
   "cell_type": "code",
   "execution_count": 1,
   "metadata": {},
   "outputs": [
    {
     "ename": "NameError",
     "evalue": "name 'factorial' is not defined",
     "output_type": "error",
     "traceback": [
      "\u001b[1;31m---------------------------------------------------------------------------\u001b[0m",
      "\u001b[1;31mNameError\u001b[0m                                 Traceback (most recent call last)",
      "\u001b[1;32m<ipython-input-1-637175d621a4>\u001b[0m in \u001b[0;36m<module>\u001b[1;34m\u001b[0m\n\u001b[1;32m----> 1\u001b[1;33m \u001b[0mfactorial\u001b[0m\u001b[1;33m(\u001b[0m\u001b[1;36m5\u001b[0m\u001b[1;33m)\u001b[0m\u001b[1;33m\u001b[0m\u001b[1;33m\u001b[0m\u001b[0m\n\u001b[0m",
      "\u001b[1;31mNameError\u001b[0m: name 'factorial' is not defined"
     ]
    }
   ],
   "source": [
    "factorial(5)"
   ]
  },
  {
   "cell_type": "code",
   "execution_count": 5,
   "metadata": {},
   "outputs": [
    {
     "name": "stdout",
     "output_type": "stream",
     "text": [
      "enter the value5\n"
     ]
    },
    {
     "data": {
      "text/plain": [
       "120"
      ]
     },
     "execution_count": 5,
     "metadata": {},
     "output_type": "execute_result"
    }
   ],
   "source": [
    "def factorial(n):\n",
    "    fact = 1\n",
    "    for i in range(1,n+1):\n",
    "        fact *= i\n",
    "    return fact\n",
    "#n = int(input(\"enter a value\"))\n",
    "#factorial(n)\n",
    "factorial(int(input(\"enter the value\")))"
   ]
  },
  {
   "cell_type": "code",
   "execution_count": 3,
   "metadata": {},
   "outputs": [
    {
     "data": {
      "text/plain": [
       "120"
      ]
     },
     "execution_count": 3,
     "metadata": {},
     "output_type": "execute_result"
    }
   ],
   "source": [
    "factorial(5)"
   ]
  },
  {
   "cell_type": "markdown",
   "metadata": {},
   "source": [
    "### Types of Arguments in functions\n",
    "- Required arguments\n",
    "    - Required arguments are the arguments passed to a function in correct positional order.\n",
    "    - The no of arguments in the function call should match with the function definition\n",
    "- Keyword arguments\n",
    "    - When we use keyword arguments in a function call, the caller identifies the arguemnts by the parameter name\n",
    "- Default arguments\n",
    "    - A default argument is an argument that assumes a  default value if a value is not provided in the function call for that argument\n",
    "- Variable length arguments\n",
    "    - An astriek(*) is placed before the variable name that holds the values of all no of keyword variable argument. the values are returned in tuple."
   ]
  },
  {
   "cell_type": "code",
   "execution_count": 9,
   "metadata": {},
   "outputs": [
    {
     "name": "stdout",
     "output_type": "stream",
     "text": [
      "enter a value1\n",
      "enter b value3\n"
     ]
    },
    {
     "data": {
      "text/plain": [
       "4"
      ]
     },
     "execution_count": 9,
     "metadata": {},
     "output_type": "execute_result"
    }
   ],
   "source": [
    "# Required arguments\n",
    "def add(a,b):\n",
    "    c = a + b\n",
    "    return c\n",
    "add(int(input(\"enter a value\")),int(input(\"enter b value\")))"
   ]
  },
  {
   "cell_type": "code",
   "execution_count": 11,
   "metadata": {},
   "outputs": [
    {
     "name": "stdout",
     "output_type": "stream",
     "text": [
      "python cse\n",
      "abc\n"
     ]
    }
   ],
   "source": [
    "# keyword arguments\n",
    "def student(rollno,name,branch):\n",
    "    print(rollno, branch)\n",
    "    print(name)\n",
    "\n",
    "student(name = \"abc\",rollno = \"python\",branch = \"cse\")"
   ]
  },
  {
   "cell_type": "code",
   "execution_count": 14,
   "metadata": {},
   "outputs": [
    {
     "name": "stdout",
     "output_type": "stream",
     "text": [
      "12 34\n",
      "l 789\n"
     ]
    }
   ],
   "source": [
    "# default arguments\n",
    "def defaultArgs(a, b = 235,c=\"program\",d = 56.45):\n",
    "    print(a,b)\n",
    "    print(c,d)\n",
    "\n",
    "defaultArgs(12,34,\"l\",789)"
   ]
  },
  {
   "cell_type": "code",
   "execution_count": 17,
   "metadata": {},
   "outputs": [
    {
     "name": "stdout",
     "output_type": "stream",
     "text": [
      "1 2\n",
      "(3, 4, 56, 78, 98, 34, 15)\n"
     ]
    }
   ],
   "source": [
    "# Variable length arguments\n",
    "def VarArgs(a,b,*c):\n",
    "    print(a,b)\n",
    "    print(c)\n",
    "    \n",
    "VarArgs(1,2,3,4,56,78,98,34,15)"
   ]
  },
  {
   "cell_type": "code",
   "execution_count": null,
   "metadata": {},
   "outputs": [],
   "source": []
  }
 ],
 "metadata": {
  "kernelspec": {
   "display_name": "Python 3",
   "language": "python",
   "name": "python3"
  },
  "language_info": {
   "codemirror_mode": {
    "name": "ipython",
    "version": 3
   },
   "file_extension": ".py",
   "mimetype": "text/x-python",
   "name": "python",
   "nbconvert_exporter": "python",
   "pygments_lexer": "ipython3",
   "version": "3.7.1"
  }
 },
 "nbformat": 4,
 "nbformat_minor": 2
}
